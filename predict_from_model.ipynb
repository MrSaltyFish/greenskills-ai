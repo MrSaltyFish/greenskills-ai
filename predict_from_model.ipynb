{
 "cells": [
  {
   "cell_type": "code",
   "execution_count": null,
   "id": "1b1c0f17",
   "metadata": {},
   "outputs": [],
   "source": [
    "# 📦 Imports\n",
    "import joblib\n",
    "import numpy as np\n",
    "import pandas as pd\n",
    "from IPython.display import display\n",
    "import ipywidgets as widgets"
   ]
  },
  {
   "cell_type": "code",
   "execution_count": null,
   "id": "8e1d967b",
   "metadata": {},
   "outputs": [],
   "source": [
    "# 📂 Load models\n",
    "models = {\n",
    "    'Linear Regression': joblib.load('models/LinearRegression.pkl'),\n",
    "    'Random Forest': joblib.load('models/RandomForest.pkl'),\n",
    "    'XGBoost': joblib.load('models/XGBoost.pkl'),\n",
    "    'LightGBM': joblib.load('models/LightGBM.pkl')\n",
    "}"
   ]
  },
  {
   "cell_type": "code",
   "execution_count": null,
   "id": "4934d2f0",
   "metadata": {},
   "outputs": [],
   "source": [
    "\n",
    "# 🔄 Load scaler\n",
    "scaler = joblib.load('models/StandardScaler.pkl')\n"
   ]
  },
  {
   "cell_type": "code",
   "execution_count": null,
   "id": "7bdc02ed",
   "metadata": {},
   "outputs": [],
   "source": [
    "# 🧬 Sample feature names (you must match these exactly as used in training)\n",
    "feature_names = [\n",
    "    'T1', 'RH_1', 'T2', 'RH_2', 'T3', 'RH_3', 'T4', 'RH_4',\n",
    "    'T5', 'RH_5', 'T6', 'RH_6', 'T7', 'RH_7', 'T8', 'RH_8',\n",
    "    'T9', 'RH_9', 'T_out', 'Press_mm_hg', 'RH_out',\n",
    "    'Windspeed', 'Visibility', 'Tdewpoint', 'rv1', 'rv2'\n",
    "]\n"
   ]
  },
  {
   "cell_type": "code",
   "execution_count": null,
   "id": "ae74c9a6",
   "metadata": {},
   "outputs": [],
   "source": [
    "\n",
    "# 🧪 Create dummy input (mean values or random)\n",
    "dummy_input = np.random.rand(1, len(feature_names)) * 10\n",
    "dummy_df = pd.DataFrame(dummy_input, columns=feature_names)\n"
   ]
  },
  {
   "cell_type": "code",
   "execution_count": null,
   "id": "f9346db8",
   "metadata": {},
   "outputs": [],
   "source": [
    "\n",
    "# 🧼 Scale input\n",
    "scaled_dummy = scaler.transform(dummy_df)"
   ]
  },
  {
   "cell_type": "code",
   "execution_count": null,
   "id": "6a50ae04",
   "metadata": {},
   "outputs": [],
   "source": [
    "# 🔮 Make predictions\n",
    "print(\"📊 Dummy Predictions:\")\n",
    "for name, model in models.items():\n",
    "    pred = model.predict(scaled_dummy)[0]\n",
    "    print(f\"{name:>20}: {pred:.2f}\")"
   ]
  },
  {
   "cell_type": "code",
   "execution_count": null,
   "id": "11679146",
   "metadata": {},
   "outputs": [],
   "source": [
    "\n",
    "# ⌨️ User input using widgets\n",
    "print(\"\\n📥 Provide your own input below:\")\n"
   ]
  },
  {
   "cell_type": "code",
   "execution_count": null,
   "id": "28e1edf4",
   "metadata": {},
   "outputs": [],
   "source": [
    "\n",
    "input_widgets = {}\n",
    "for fname in feature_names:\n",
    "    input_widgets[fname] = widgets.FloatText(\n",
    "        value=0.0,\n",
    "        description=fname,\n",
    "        layout=widgets.Layout(width='50%')\n",
    "    )"
   ]
  },
  {
   "cell_type": "code",
   "execution_count": null,
   "id": "f8bec4ba",
   "metadata": {},
   "outputs": [],
   "source": [
    "# Render all inputs\n",
    "input_box = widgets.VBox(list(input_widgets.values()))\n",
    "display(input_box)"
   ]
  },
  {
   "cell_type": "code",
   "execution_count": null,
   "id": "27612d56",
   "metadata": {},
   "outputs": [],
   "source": [
    "# 🧠 Prediction button\n",
    "def predict_user_input(_):\n",
    "    user_input = np.array([widget.value for widget in input_widgets.values()]).reshape(1, -1)\n",
    "    user_scaled = scaler.transform(user_input)\n",
    "    print(\"\\n🔮 Predictions on your input:\")\n",
    "    for name, model in models.items():\n",
    "        pred = model.predict(user_scaled)[0]\n",
    "        print(f\"{name:>20}: {pred:.2f}\")\n",
    "\n",
    "btn = widgets.Button(description=\"Predict\")\n",
    "btn.on_click(predict_user_input)\n",
    "display(btn)"
   ]
  }
 ],
 "metadata": {
  "language_info": {
   "name": "python"
  }
 },
 "nbformat": 4,
 "nbformat_minor": 5
}
