{
 "cells": [
  {
   "cell_type": "code",
   "execution_count": null,
   "id": "8d5748d4",
   "metadata": {},
   "outputs": [],
   "source": [
    "# ✅ 1. Imports\n",
    "import pandas as pd\n",
    "import numpy as np\n",
    "from sklearn.model_selection import train_test_split\n",
    "from sklearn.preprocessing import StandardScaler\n",
    "from sklearn.linear_model import LinearRegression\n",
    "from sklearn.ensemble import RandomForestRegressor\n",
    "from xgboost import XGBRegressor\n",
    "from lightgbm import LGBMRegressor\n",
    "from sklearn.metrics import mean_absolute_error, mean_squared_error, r2_score\n",
    "import joblib\n",
    "import os"
   ]
  },
  {
   "cell_type": "code",
   "execution_count": null,
   "id": "0e753834",
   "metadata": {},
   "outputs": [],
   "source": [
    "# ✅ 2. Load & clean\n",
    "df = pd.read_csv(\"energydata_complete.csv\")\n",
    "df.drop(columns=['date'], inplace=True)\n",
    "df = df.select_dtypes(include=[np.number])\n"
   ]
  },
  {
   "cell_type": "code",
   "execution_count": null,
   "id": "e30200cb",
   "metadata": {},
   "outputs": [],
   "source": [
    "# ✅ 3. Define features\n",
    "target = 'Appliances'\n",
    "X = df.drop(columns=[target])\n",
    "y = df[target]\n"
   ]
  },
  {
   "cell_type": "code",
   "execution_count": null,
   "id": "024f4d3b",
   "metadata": {},
   "outputs": [],
   "source": [
    "\n",
    "# ✅ 4. Scale features\n",
    "scaler = StandardScaler()\n",
    "X_scaled = scaler.fit_transform(X)"
   ]
  },
  {
   "cell_type": "code",
   "execution_count": null,
   "id": "157344c5",
   "metadata": {},
   "outputs": [],
   "source": [
    "\n",
    "# ✅ 5. Train/test split\n",
    "X_train, X_test, y_train, y_test = train_test_split(X_scaled, y, test_size=0.2, random_state=42)\n"
   ]
  },
  {
   "cell_type": "code",
   "execution_count": null,
   "id": "eb530317",
   "metadata": {},
   "outputs": [],
   "source": [
    "# ✅ 6. Models to train\n",
    "models = {\n",
    "    'LinearRegression': LinearRegression(),\n",
    "    'RandomForest': RandomForestRegressor(n_estimators=100, n_jobs=-1),\n",
    "    'XGBoost': XGBRegressor(n_estimators=100, verbosity=0, n_jobs=-1),\n",
    "    'LightGBM': LGBMRegressor(n_estimators=100, n_jobs=-1)\n",
    "}\n",
    "\n",
    "results_df = pd.DataFrame()\n",
    "model_metrics = []\n"
   ]
  },
  {
   "cell_type": "code",
   "execution_count": null,
   "id": "2a0c6216",
   "metadata": {},
   "outputs": [],
   "source": [
    "# ✅ 7. Train & store results\n",
    "for name, model in models.items():\n",
    "    model.fit(X_train, y_train)\n",
    "    preds = model.predict(X_test)\n",
    "\n",
    "    temp = pd.DataFrame({\n",
    "        'Model': name,\n",
    "        'Actual': y_test.reset_index(drop=True),\n",
    "        'Predicted': preds\n",
    "    })\n",
    "\n",
    "    temp['Green_Score'] = 100 - ((temp['Predicted'] - temp['Predicted'].min()) /\n",
    "                                 (temp['Predicted'].max() - temp['Predicted'].min()) * 100)\n",
    "    temp['Green_Score'] = temp['Green_Score'].clip(0, 100)\n",
    "    results_df = pd.concat([results_df, temp], ignore_index=True)\n",
    "\n",
    "    model_metrics.append({\n",
    "        'Model': name,\n",
    "        'MAE': round(mean_absolute_error(y_test, preds), 2),\n",
    "        'RMSE': round(np.sqrt(mean_squared_error(y_test, preds)), 2),\n",
    "        'R2': round(r2_score(y_test, preds), 4)\n",
    "    })\n",
    "\n",
    "    # ✅ Save model\n",
    "    joblib.dump(model, f'models/{name}_model.pkl')\n"
   ]
  },
  {
   "cell_type": "code",
   "execution_count": null,
   "id": "a6dcfb73",
   "metadata": {},
   "outputs": [],
   "source": [
    "# ✅ 8. Save scaler\n",
    "joblib.dump(scaler, 'models/scaler.pkl')\n"
   ]
  },
  {
   "cell_type": "code",
   "execution_count": null,
   "id": "94912770",
   "metadata": {},
   "outputs": [],
   "source": [
    "# ✅ 9. Save metrics\n",
    "metrics_df = pd.DataFrame(model_metrics)\n",
    "metrics_df.to_csv(\"models/model_metrics.csv\", index=False)\n"
   ]
  },
  {
   "cell_type": "code",
   "execution_count": null,
   "id": "72a76f9a",
   "metadata": {},
   "outputs": [],
   "source": [
    "# ✅ 10. Save results\n",
    "results_df.to_csv(\"models/green_score_results.csv\", index=False)\n",
    "\n"
   ]
  },
  {
   "cell_type": "code",
   "execution_count": null,
   "id": "0365feab",
   "metadata": {},
   "outputs": [],
   "source": [
    "# ✅ 11. Feature importance using LightGBM\n",
    "lightgbm = models['LightGBM']\n",
    "importances = lightgbm.feature_importances_\n",
    "features = X.columns\n",
    "imp_df = pd.DataFrame({'Feature': features, 'Importance': importances}).sort_values(by='Importance', ascending=False)\n",
    "imp_df.to_csv(\"models/feature_importance.csv\", index=False)\n",
    "\n",
    "print(\"✅ All models, metrics, and artifacts exported.\")\n"
   ]
  }
 ],
 "metadata": {
  "kernelspec": {
   "display_name": "Python 3",
   "language": "python",
   "name": "python3"
  },
  "language_info": {
   "name": "python",
   "version": "3.12.9"
  }
 },
 "nbformat": 4,
 "nbformat_minor": 5
}
