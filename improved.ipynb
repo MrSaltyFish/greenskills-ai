{
 "cells": [
  {
   "cell_type": "markdown",
   "id": "6dce2eb1",
   "metadata": {},
   "source": [
    "Loading Data"
   ]
  },
  {
   "cell_type": "code",
   "execution_count": null,
   "id": "431828cb",
   "metadata": {
    "vscode": {
     "languageId": "plaintext"
    }
   },
   "outputs": [],
   "source": [
    "def load_and_clean_data(file_path):\n",
    "    df = pd.read_csv(file_path)\n",
    "    if 'date' in df.columns:\n",
    "        df.drop(columns=['date'], inplace=True)\n",
    "    df = df.select_dtypes(include=[np.number])\n",
    "    return df"
   ]
  },
  {
   "cell_type": "code",
   "execution_count": null,
   "id": "32089114",
   "metadata": {
    "vscode": {
     "languageId": "plaintext"
    }
   },
   "outputs": [],
   "source": [
    "def prepare_features(df, target='Appliances'):\n",
    "    X = df.drop(columns=[target])\n",
    "    y = df[target]\n",
    "    return X, y"
   ]
  },
  {
   "cell_type": "code",
   "execution_count": null,
   "id": "1d02a565",
   "metadata": {
    "vscode": {
     "languageId": "plaintext"
    }
   },
   "outputs": [],
   "source": [
    "from sklearn.preprocessing import StandardScaler\n",
    "\n",
    "def scale_features(X):\n",
    "    scaler = StandardScaler()\n",
    "    X_scaled = scaler.fit_transform(X)\n",
    "    return pd.DataFrame(X_scaled, columns=X.columns), scaler"
   ]
  },
  {
   "cell_type": "code",
   "execution_count": null,
   "id": "6ffba78e",
   "metadata": {
    "vscode": {
     "languageId": "plaintext"
    }
   },
   "outputs": [],
   "source": [
    "def train_models(X_train, X_test, y_train, y_test):\n",
    "    models = {\n",
    "        'Linear Regression': LinearRegression(),\n",
    "        'Random Forest': RandomForestRegressor(n_estimators=100),\n",
    "        'XGBoost': XGBRegressor(n_estimators=100, verbosity=0),\n",
    "        'LightGBM': LGBMRegressor(n_estimators=100)\n",
    "    }\n",
    "\n",
    "    results_df = pd.DataFrame()\n",
    "\n",
    "    for name, model in models.items():\n",
    "        model.fit(X_train, y_train)\n",
    "        preds = model.predict(X_test)\n",
    "\n",
    "        temp = pd.DataFrame({\n",
    "            'Model': name,\n",
    "            'Actual': y_test.reset_index(drop=True),\n",
    "            'Predicted': preds\n",
    "        })\n",
    "\n",
    "        temp['Green_Score'] = 100 - ((temp['Predicted'] - temp['Predicted'].min()) /\n",
    "                                     (temp['Predicted'].max() - temp['Predicted'].min()) * 100)\n",
    "        temp['Green_Score'] = temp['Green_Score'].clip(0, 100)\n",
    "        results_df = pd.concat([results_df, temp], ignore_index=True)\n",
    "\n",
    "    return results_df"
   ]
  },
  {
   "cell_type": "code",
   "execution_count": null,
   "id": "37e6932b",
   "metadata": {
    "vscode": {
     "languageId": "plaintext"
    }
   },
   "outputs": [],
   "source": [
    "def compute_feature_importance(X_train, y_train, features):\n",
    "    model = LGBMRegressor(n_estimators=100)\n",
    "    model.fit(X_train, y_train)\n",
    "    importances = model.feature_importances_\n",
    "    imp_df = pd.DataFrame({'Feature': features, 'Importance': importances})\n",
    "    return imp_df.sort_values(by='Importance', ascending=False)"
   ]
  },
  {
   "cell_type": "code",
   "execution_count": null,
   "id": "a1c83098",
   "metadata": {
    "vscode": {
     "languageId": "plaintext"
    }
   },
   "outputs": [],
   "source": [
    "def plot_green_score(results_df):\n",
    "    sns.histplot(results_df['Green_Score'], bins=30, kde=True, color='green')\n",
    "    plt.title('Green Score Distribution')\n",
    "    plt.xlabel('Green Score')\n",
    "    plt.ylabel('Count')\n",
    "    plt.show()\n",
    "\n",
    "def plot_actual_vs_predicted(results_df):\n",
    "    for model_name in results_df['Model'].unique():\n",
    "        sample = results_df[results_df['Model'] == model_name]\n",
    "        sns.scatterplot(x='Actual', y='Predicted', data=sample, alpha=0.5)\n",
    "        plt.plot([sample['Actual'].min(), sample['Actual'].max()],\n",
    "                 [sample['Actual'].min(), sample['Actual'].max()], color='red', linestyle='--')\n",
    "        plt.title(f'Actual vs Predicted - {model_name}')\n",
    "        plt.xlabel('Actual Energy Usage')\n",
    "        plt.ylabel('Predicted Energy Usage')\n",
    "        plt.show()\n"
   ]
  },
  {
   "cell_type": "code",
   "execution_count": null,
   "id": "8a703a6e",
   "metadata": {
    "vscode": {
     "languageId": "plaintext"
    }
   },
   "outputs": [],
   "source": [
    "def categorize(score):\n",
    "    if score >= 80:\n",
    "        return 'High'\n",
    "    elif score >= 50:\n",
    "        return 'Medium'\n",
    "    else:\n",
    "        return 'Low'\n",
    "\n",
    "def show_efficiency_confusion_matrix(results_df):\n",
    "    results_df['Green_Label'] = results_df['Green_Score'].apply(categorize)\n",
    "    lightgbm_preds = results_df[results_df['Model'] == 'LightGBM'].copy()\n",
    "    lightgbm_preds['Actual_Label'] = lightgbm_preds['Actual'].apply(\n",
    "        lambda x: 'High' if x < 50 else 'Medium' if x < 150 else 'Low')\n",
    "    lightgbm_preds['Predicted_Label'] = lightgbm_preds['Green_Label']\n",
    "\n",
    "    cm = confusion_matrix(lightgbm_preds['Actual_Label'], lightgbm_preds['Predicted_Label'],\n",
    "                          labels=['High', 'Medium', 'Low'])\n",
    "    disp = ConfusionMatrixDisplay(confusion_matrix=cm, display_labels=['High', 'Medium', 'Low'])\n",
    "    disp.plot(cmap='Greens')\n",
    "    plt.title(\"Green Efficiency Confusion Matrix (LightGBM)\")\n",
    "    plt.show()\n"
   ]
  }
 ],
 "metadata": {
  "language_info": {
   "name": "python"
  }
 },
 "nbformat": 4,
 "nbformat_minor": 5
}
